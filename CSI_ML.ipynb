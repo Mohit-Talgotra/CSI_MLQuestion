{
 "cells": [
  {
   "cell_type": "code",
   "execution_count": 5,
   "id": "9d4f796c-8002-4eeb-a480-0642ff7dae08",
   "metadata": {},
   "outputs": [
    {
     "name": "stdout",
     "output_type": "stream",
     "text": [
      "Accuracy: 1.0\n"
     ]
    },
    {
     "data": {
      "text/plain": [
       "'food poisoning outbreak grips sub-urban Bangalore, prompting closures and investigations . residents urge vigilance after a string of incidents linked to a local restaurant . reports of poisoning spark health scare among residents .'"
      ]
     },
     "execution_count": 5,
     "metadata": {},
     "output_type": "execute_result"
    }
   ],
   "source": [
    "#To be able to run this code, all the libraries below need to be downloaded.\n",
    "import pandas as pd\n",
    "from sklearn.cluster import KMeans\n",
    "from sklearn.feature_extraction.text import CountVectorizer\n",
    "from sklearn.metrics import accuracy_score\n",
    "from transformers import PegasusForConditionalGeneration, PegasusTokenizer\n",
    "from transformers import pipeline\n",
    "\n",
    "#Reading the text file into\n",
    "df = pd.read_csv('texts.csv')\n",
    "\n",
    "#Pre-processing the data\n",
    "#Split the file into texts and labels\n",
    "#Since the dataset of texts was made by me. I have labeled the different texts as 1, if it is a text about food poisoning, and 0 otherwise.\n",
    "text = df.drop('label', axis=1)\n",
    "labels = df['label']\n",
    "\n",
    "#Vectorize the data\n",
    "vectorizer = CountVectorizer()\n",
    "vectorizedText = vectorizer.fit_transform(X['texts'])\n",
    "\n",
    "#Creating the clusters\n",
    "kmeans = KMeans(n_clusters=2, n_init = 10)\n",
    "kmeans.fit(vectorizedText)\n",
    "\n",
    "#Assigning texts to the clusters\n",
    "clusterValues = kmeans.predict(vectorizedText)\n",
    "\n",
    "#The clusters are labeled 0 or 1(since there are only 2 clusters) randomly, so I create a new list with labels similar to the ones in the data file\n",
    "#This is helpful when trying to get the accuracy score of the prediction model\n",
    "correctedClusterValues = []\n",
    "poisoning = 0\n",
    "for i in range(len(clusterValues)):\n",
    "    if \"poisoning\" in text['texts'][i]:\n",
    "        poisoning = clusterValues[i]\n",
    "        break\n",
    "\n",
    "if poisoning != 1:\n",
    "    for i in clusterValues:\n",
    "        if i == 1:\n",
    "            correctedClusterValues.append(0)\n",
    "        elif i == 0:\n",
    "            correctedClusterValues.append(1)\n",
    "else:\n",
    "    correctedClusterValues = clusterValues\n",
    "\n",
    "#Finding the accuracy score\n",
    "accuracy = accuracy_score(y, y_pred_new)\n",
    "print('Accuracy:', accuracy)\n",
    "\n",
    "#Getting the texts which are about food poisoning\n",
    "poisoning_text = \"\"\n",
    "for i in range(len(correctedClusterValues)):\n",
    "    if correctedClusterValues[i] == 1:\n",
    "        poisoning_text += \" \" + text['texts'][i]\n",
    "\n",
    "#Summarizing the text using the Transformers model\n",
    "model_name = \"google-t5/t5-small\"\n",
    "summarizer = pipeline('summarization', model = model_name)\n",
    "summary = summarizer(poisoning_text, max_length = 200, min_length = 30, do_sample = False)\n",
    "summaryText = summary[0]['summary_text']\n",
    "\n",
    "print(summaryText)"
   ]
  }
 ],
 "metadata": {
  "kernelspec": {
   "display_name": "Python 3 (ipykernel)",
   "language": "python",
   "name": "python3"
  },
  "language_info": {
   "codemirror_mode": {
    "name": "ipython",
    "version": 3
   },
   "file_extension": ".py",
   "mimetype": "text/x-python",
   "name": "python",
   "nbconvert_exporter": "python",
   "pygments_lexer": "ipython3",
   "version": "3.11.5"
  }
 },
 "nbformat": 4,
 "nbformat_minor": 5
}
